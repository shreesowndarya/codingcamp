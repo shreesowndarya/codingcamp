{
 "cells": [
  {
   "cell_type": "markdown",
   "id": "c0c05025",
   "metadata": {},
   "source": [
    "### Working with ASE and PySCF\n",
    "#### Sabari Kumar, CSU Theory Group Coding Camp 2022\n"
   ]
  },
  {
   "cell_type": "markdown",
   "id": "e1b4f294",
   "metadata": {},
   "source": [
    "ASE is a python package that aims to provide a unified interface to molecular simulation tools. Among other things, it makes setting up and running calculations from a jupyter notebook easy.  \n",
    "  \n",
    "ASE Documentation: https://wiki.fysik.dtu.dk/ase/index.html"
   ]
  },
  {
   "cell_type": "markdown",
   "id": "258da745",
   "metadata": {},
   "source": [
    "ASE interfaces to simulation software using \"calculators\". There are calculators available for several popular software packages, including Gaussian, ORCA, AMBDER, GROMACS and LAMMPS. Additionally, XTB and DFTD4/DFTD3 have native ASE interfaces, allowing you to easily integrate them into your workflows. "
   ]
  },
  {
   "cell_type": "markdown",
   "id": "bd6ac0b0",
   "metadata": {},
   "source": [
    "ASE also has tools that allow you to build simple systems from scratch and perform structure minimization. In general, it seems to be more oriented to solid state applications, but its inclusion of a PubChem API interface allows for a quick way to run DFT calculations:"
   ]
  },
  {
   "cell_type": "code",
   "execution_count": 19,
   "id": "4344e485",
   "metadata": {},
   "outputs": [
    {
     "ename": "ModuleNotFoundError",
     "evalue": "No module named 'density_functional_approximation_dm21'",
     "output_type": "error",
     "traceback": [
      "\u001b[0;31m---------------------------------------------------------------------------\u001b[0m",
      "\u001b[0;31mModuleNotFoundError\u001b[0m                       Traceback (most recent call last)",
      "\u001b[0;32m<ipython-input-19-c012cb895779>\u001b[0m in \u001b[0;36m<module>\u001b[0;34m\u001b[0m\n\u001b[1;32m      7\u001b[0m \u001b[0;32mfrom\u001b[0m \u001b[0mpyscf\u001b[0m \u001b[0;32mimport\u001b[0m \u001b[0mgto\u001b[0m\u001b[0;34m\u001b[0m\u001b[0;34m\u001b[0m\u001b[0m\n\u001b[1;32m      8\u001b[0m \u001b[0;32mfrom\u001b[0m \u001b[0mpyscf\u001b[0m \u001b[0;32mimport\u001b[0m \u001b[0mdft\u001b[0m\u001b[0;34m\u001b[0m\u001b[0;34m\u001b[0m\u001b[0m\n\u001b[0;32m----> 9\u001b[0;31m \u001b[0;32mimport\u001b[0m \u001b[0mdensity_functional_approximation_dm21\u001b[0m \u001b[0;32mas\u001b[0m \u001b[0mdm21\u001b[0m\u001b[0;34m\u001b[0m\u001b[0;34m\u001b[0m\u001b[0m\n\u001b[0m",
      "\u001b[0;31mModuleNotFoundError\u001b[0m: No module named 'density_functional_approximation_dm21'"
     ]
    }
   ],
   "source": [
    "import rdkit\n",
    "import os\n",
    "from tqdm import tqdm\n",
    "import ase\n",
    "from ase.data.pubchem import pubchem_atoms_search\n",
    "from ase.calculators.gaussian import Gaussian, GaussianOptimizer\n",
    "from pyscf import gto\n",
    "from pyscf import dft\n",
    "import density_functional_approximation_dm21 as dm21"
   ]
  },
  {
   "cell_type": "code",
   "execution_count": null,
   "id": "b562beae",
   "metadata": {},
   "outputs": [],
   "source": [
    "mol_names = ['formamide', 'acetaldehyde', 'acetylchloride']\n",
    "mols = []\n",
    "\n",
    "for mol in mol_names:\n",
    "    try:\n",
    "        mols.append(pubchem_atoms_search(name = mol))\n",
    "    except:\n",
    "        mols.append('No pubchem entry found')"
   ]
  },
  {
   "cell_type": "code",
   "execution_count": 20,
   "id": "1c4af82b",
   "metadata": {},
   "outputs": [
    {
     "data": {
      "text/plain": [
       "[Atoms(symbols='OC2H4', pbc=False, initial_charges=...),\n",
       " 'No pubchem entry found',\n",
       " Atoms(symbols='CH4', pbc=False, initial_charges=...)]"
      ]
     },
     "execution_count": 20,
     "metadata": {},
     "output_type": "execute_result"
    }
   ],
   "source": [
    "mols"
   ]
  },
  {
   "cell_type": "code",
   "execution_count": 15,
   "id": "f2a5a11f",
   "metadata": {},
   "outputs": [
    {
     "name": "stderr",
     "output_type": "stream",
     "text": [
      " 67%|██████▋   | 2/3 [00:01<00:00,  1.41it/s]"
     ]
    },
    {
     "name": "stdout",
     "output_type": "stream",
     "text": [
      "PUGREST.BadRequest\n"
     ]
    },
    {
     "name": "stderr",
     "output_type": "stream",
     "text": [
      "100%|██████████| 3/3 [00:02<00:00,  1.07it/s]\n"
     ]
    }
   ],
   "source": [
    "mol_smiles = ['CC=O', '[C-]#[O+]', 'C']\n",
    "mol_names = ['ethanal', 'carbon_monoxide', 'methane']\n",
    "mols = []\n",
    "\n",
    "for mol in tqdm(mol_smiles):\n",
    "    try:\n",
    "        mols.append(pubchem_atoms_search(smiles = mol))\n",
    "    except:\n",
    "        mols.append('No pubchem entry found')"
   ]
  },
  {
   "cell_type": "code",
   "execution_count": 16,
   "id": "b165f05c",
   "metadata": {},
   "outputs": [
    {
     "data": {
      "text/plain": [
       "[Atoms(symbols='OC2H4', pbc=False, initial_charges=...),\n",
       " 'No pubchem entry found',\n",
       " Atoms(symbols='CH4', pbc=False, initial_charges=...)]"
      ]
     },
     "execution_count": 16,
     "metadata": {},
     "output_type": "execute_result"
    }
   ],
   "source": [
    "mols"
   ]
  },
  {
   "cell_type": "code",
   "execution_count": null,
   "id": "b5f5a3bd",
   "metadata": {},
   "outputs": [],
   "source": [
    "pot_energy = []\n",
    "for i, mol in enumerate(tqdm(mols)):\n",
    "    gau_opt = Gaussian(label='./opt/'+mol_names[i],\n",
    "                       method = 'hf',\n",
    "                       basis = '3-21G',\n",
    "                       mem = '16GB',\n",
    "                       chk = mol_names[i]+'.chk')\n",
    "    gau_calc = Gaussian(label='./calc/'+ mol_names[i],\n",
    "                        method = 'hf',\n",
    "                        basis = '3-21G',\n",
    "                        mem = '16GB',\n",
    "                        chk = mol_names[i]+'.chk',\n",
    "                        freq = '',\n",
    "                        scf = 'xqc')\n",
    "    opt = GaussianOptimizer(mol, gau_opt)\n",
    "    opt.run(fmax='tight', steps = 100)\n",
    "    mol.calc = gau_calc    \n",
    "    pot_energy.append(mol.get_potential_energy())\n",
    "   "
   ]
  },
  {
   "cell_type": "code",
   "execution_count": null,
   "id": "0497c131",
   "metadata": {},
   "outputs": [],
   "source": [
    "pot_energy"
   ]
  },
  {
   "cell_type": "markdown",
   "id": "e95d18df",
   "metadata": {},
   "source": [
    "---\n",
    "If you don't want to call an external program, you can run DFT calculations in python directly from your jupyter notebook using PySCF:"
   ]
  },
  {
   "cell_type": "code",
   "execution_count": 17,
   "id": "8c73a60c",
   "metadata": {},
   "outputs": [
    {
     "ename": "AttributeError",
     "evalue": "'str' object has no attribute 'positions'",
     "output_type": "error",
     "traceback": [
      "\u001b[0;31m---------------------------------------------------------------------------\u001b[0m",
      "\u001b[0;31mAttributeError\u001b[0m                            Traceback (most recent call last)",
      "\u001b[0;32m<ipython-input-17-9d9be36134f2>\u001b[0m in \u001b[0;36m<module>\u001b[0;34m\u001b[0m\n\u001b[1;32m      1\u001b[0m \u001b[0;31m# Updated atom positions\u001b[0m\u001b[0;34m\u001b[0m\u001b[0;34m\u001b[0m\u001b[0;34m\u001b[0m\u001b[0m\n\u001b[0;32m----> 2\u001b[0;31m \u001b[0mprint\u001b[0m\u001b[0;34m(\u001b[0m\u001b[0mmol\u001b[0m\u001b[0;34m.\u001b[0m\u001b[0mpositions\u001b[0m\u001b[0;34m)\u001b[0m\u001b[0;34m\u001b[0m\u001b[0;34m\u001b[0m\u001b[0m\n\u001b[0m\u001b[1;32m      3\u001b[0m \u001b[0;31m#Dump positions to xyz for PySCF to read\u001b[0m\u001b[0;34m\u001b[0m\u001b[0;34m\u001b[0m\u001b[0;34m\u001b[0m\u001b[0m\n\u001b[1;32m      4\u001b[0m \u001b[0;32mfor\u001b[0m \u001b[0mind\u001b[0m\u001b[0;34m,\u001b[0m \u001b[0mmol\u001b[0m \u001b[0;32min\u001b[0m \u001b[0menumerate\u001b[0m\u001b[0;34m(\u001b[0m\u001b[0mmols\u001b[0m\u001b[0;34m)\u001b[0m\u001b[0;34m:\u001b[0m\u001b[0;34m\u001b[0m\u001b[0;34m\u001b[0m\u001b[0m\n\u001b[1;32m      5\u001b[0m     \u001b[0mase\u001b[0m\u001b[0;34m.\u001b[0m\u001b[0mio\u001b[0m\u001b[0;34m.\u001b[0m\u001b[0mwrite\u001b[0m\u001b[0;34m(\u001b[0m\u001b[0;34m'./opt/'\u001b[0m \u001b[0;34m+\u001b[0m \u001b[0mmol_names\u001b[0m\u001b[0;34m[\u001b[0m\u001b[0mind\u001b[0m\u001b[0;34m]\u001b[0m \u001b[0;34m+\u001b[0m \u001b[0;34m'.xyz'\u001b[0m\u001b[0;34m,\u001b[0m \u001b[0mmol\u001b[0m\u001b[0;34m,\u001b[0m \u001b[0mformat\u001b[0m \u001b[0;34m=\u001b[0m \u001b[0;34m'xyz'\u001b[0m\u001b[0;34m)\u001b[0m\u001b[0;34m\u001b[0m\u001b[0;34m\u001b[0m\u001b[0m\n",
      "\u001b[0;31mAttributeError\u001b[0m: 'str' object has no attribute 'positions'"
     ]
    }
   ],
   "source": [
    "# Updated atom positions\n",
    "print(mol.positions)\n",
    "#Dump positions to xyz for PySCF to read\n",
    "for ind, mol in enumerate(mols):\n",
    "    ase.io.write('./opt/' + mol_names[ind] + '.xyz', mol, format = 'xyz')"
   ]
  },
  {
   "cell_type": "code",
   "execution_count": 18,
   "id": "7f977519",
   "metadata": {},
   "outputs": [
    {
     "ename": "NameError",
     "evalue": "name 'gto' is not defined",
     "output_type": "error",
     "traceback": [
      "\u001b[0;31m---------------------------------------------------------------------------\u001b[0m",
      "\u001b[0;31mNameError\u001b[0m                                 Traceback (most recent call last)",
      "\u001b[0;32m<ipython-input-18-f38bfc286296>\u001b[0m in \u001b[0;36m<module>\u001b[0;34m\u001b[0m\n\u001b[1;32m      3\u001b[0m \u001b[0msp_energy\u001b[0m \u001b[0;34m=\u001b[0m \u001b[0;34m[\u001b[0m\u001b[0;34m]\u001b[0m\u001b[0;34m\u001b[0m\u001b[0;34m\u001b[0m\u001b[0m\n\u001b[1;32m      4\u001b[0m \u001b[0;32mfor\u001b[0m \u001b[0mmol_name\u001b[0m \u001b[0;32min\u001b[0m \u001b[0mmol_names\u001b[0m\u001b[0;34m:\u001b[0m\u001b[0;34m\u001b[0m\u001b[0;34m\u001b[0m\u001b[0m\n\u001b[0;32m----> 5\u001b[0;31m     \u001b[0mmol\u001b[0m \u001b[0;34m=\u001b[0m \u001b[0mgto\u001b[0m\u001b[0;34m.\u001b[0m\u001b[0mMole\u001b[0m\u001b[0;34m(\u001b[0m\u001b[0;34m)\u001b[0m\u001b[0;34m\u001b[0m\u001b[0;34m\u001b[0m\u001b[0m\n\u001b[0m\u001b[1;32m      6\u001b[0m     \u001b[0mmol\u001b[0m\u001b[0;34m.\u001b[0m\u001b[0matom\u001b[0m \u001b[0;34m=\u001b[0m \u001b[0;34m'./opt/'\u001b[0m \u001b[0;34m+\u001b[0m \u001b[0mmol_name\u001b[0m \u001b[0;34m+\u001b[0m \u001b[0;34m'.xyz'\u001b[0m\u001b[0;34m\u001b[0m\u001b[0;34m\u001b[0m\u001b[0m\n\u001b[1;32m      7\u001b[0m     \u001b[0mmol\u001b[0m\u001b[0;34m.\u001b[0m\u001b[0moutput\u001b[0m \u001b[0;34m=\u001b[0m \u001b[0;34m'./log'\u001b[0m \u001b[0;34m+\u001b[0m \u001b[0mmol_name\u001b[0m \u001b[0;34m+\u001b[0m \u001b[0;34m'.log'\u001b[0m\u001b[0;34m\u001b[0m\u001b[0;34m\u001b[0m\u001b[0m\n",
      "\u001b[0;31mNameError\u001b[0m: name 'gto' is not defined"
     ]
    }
   ],
   "source": [
    "#You need to do a structure optimization prior to this!\n",
    "\n",
    "sp_energy = []\n",
    "for mol_name in mol_names:\n",
    "    mol = gto.Mole()\n",
    "    mol.atom = './opt/' + mol_name + '.xyz'\n",
    "    mol.output = './calc' + mol_name + '.log'\n",
    "    mol.basis = 'cc-pVDZ'\n",
    "    mol.verbose = 3\n",
    "    mol.build()\n",
    "    mol_energy = mol.RKS().run(chkfile = './dm21/' + mol_name + '.chk', _numint = dm21.NeuralNumInt(dm21.Functional.DM21)\n",
    "            ,conv_tol = 1E-6, conv_tol_grad = 1E-3)\n",
    "    sp_energy.append(mol_energy)\n",
    "    mol_energy.dump_scf_summary()\n",
    "    mol_energy.analyze()\n",
    "    mol_energy.spin_square()"
   ]
  },
  {
   "cell_type": "code",
   "execution_count": null,
   "id": "43576453",
   "metadata": {},
   "outputs": [],
   "source": []
  }
 ],
 "metadata": {
  "kernelspec": {
   "display_name": "Python 3 (ipykernel)",
   "language": "python",
   "name": "python3"
  },
  "language_info": {
   "codemirror_mode": {
    "name": "ipython",
    "version": 3
   },
   "file_extension": ".py",
   "mimetype": "text/x-python",
   "name": "python",
   "nbconvert_exporter": "python",
   "pygments_lexer": "ipython3",
   "version": "3.8.13"
  }
 },
 "nbformat": 4,
 "nbformat_minor": 5
}
