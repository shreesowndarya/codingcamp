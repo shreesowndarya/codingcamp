{
 "cells": [
  {
   "cell_type": "code",
   "execution_count": 1,
   "metadata": {},
   "outputs": [],
   "source": [
    "import pandas as pd\n",
    "import numpy as np\n",
    "import matplotlib.pyplot as plt"
   ]
  },
  {
   "cell_type": "markdown",
   "metadata": {},
   "source": [
    "## CSU Chemistry Theory Group Coding Camp 2022\n",
    "### Cheminfomatics, Bash Scripts, Computational Chemistry\n",
    "\n",
    "#### Agenda:\n",
    "* [RDKit](#RDKit)\n",
    "* [Bash](#Bash)\n",
    "* [CClib](#CClib)"
   ]
  },
  {
   "cell_type": "markdown",
   "metadata": {},
   "source": [
    "# RDKit: a cheminformatics package <a name=\"RDKit\"></a>\n",
    "\n",
    "RDKit is primiarly used for creation, and manipulation of chemical structures.  \n",
    "\n",
    "https://www.rdkit.org/docs/GettingStartedInPython.html"
   ]
  },
  {
   "cell_type": "code",
   "execution_count": 3,
   "metadata": {},
   "outputs": [],
   "source": [
    "import rdkit\n",
    "from rdkit import Chem"
   ]
  },
  {
   "cell_type": "markdown",
   "metadata": {},
   "source": [
    "### Step 1: 2D smiles to 3D structure\n",
    "\n",
    "RDkit deals with molecules as mol objects. THese mol objects can be created from either 2D or 3D files. THis mol object is the base to everything that is done in rdkit"
   ]
  },
  {
   "cell_type": "code",
   "execution_count": 15,
   "metadata": {},
   "outputs": [],
   "source": [
    "m1 = Chem.MolFromSmiles('CCc1ccccc1')"
   ]
  },
  {
   "cell_type": "code",
   "execution_count": 16,
   "metadata": {},
   "outputs": [
    {
     "data": {
      "text/plain": [
       "rdkit.Chem.rdchem.Mol"
      ]
     },
     "execution_count": 16,
     "metadata": {},
     "output_type": "execute_result"
    }
   ],
   "source": [
    "type(m1)"
   ]
  },
  {
   "cell_type": "code",
   "execution_count": 17,
   "metadata": {},
   "outputs": [
    {
     "data": {
      "image/png": "[encoded data removed]",
      "text/plain": [
       "<rdkit.Chem.rdchem.Mol at 0x7fc485e3d990>"
      ]
     },
     "execution_count": 17,
     "metadata": {},
     "output_type": "execute_result"
    }
   ],
   "source": [
    "m1"
   ]
  },
  {
   "cell_type": "code",
   "execution_count": 18,
   "metadata": {},
   "outputs": [
    {
     "name": "stdout",
     "output_type": "stream",
     "text": [
      "\n",
      "     RDKit          2D\n",
      "\n",
      "  8  8  0  0  0  0  0  0  0  0999 V2000\n",
      "    3.7500   -1.2990    0.0000 C   0  0  0  0  0  0  0  0  0  0  0  0\n",
      "    3.0000    0.0000    0.0000 C   0  0  0  0  0  0  0  0  0  0  0  0\n",
      "    1.5000    0.0000    0.0000 C   0  0  0  0  0  0  0  0  0  0  0  0\n",
      "    0.7500   -1.2990    0.0000 C   0  0  0  0  0  0  0  0  0  0  0  0\n",
      "   -0.7500   -1.2990    0.0000 C   0  0  0  0  0  0  0  0  0  0  0  0\n",
      "   -1.5000    0.0000    0.0000 C   0  0  0  0  0  0  0  0  0  0  0  0\n",
      "   -0.7500    1.2990    0.0000 C   0  0  0  0  0  0  0  0  0  0  0  0\n",
      "    0.7500    1.2990    0.0000 C   0  0  0  0  0  0  0  0  0  0  0  0\n",
      "  1  2  1  0\n",
      "  2  3  1  0\n",
      "  3  4  2  0\n",
      "  4  5  1  0\n",
      "  5  6  2  0\n",
      "  6  7  1  0\n",
      "  7  8  2  0\n",
      "  8  3  1  0\n",
      "M  END\n",
      "\n"
     ]
    }
   ],
   "source": [
    "#What is the coordinates of the molecule?\n",
    "print(Chem.MolToMolBlock(m1))"
   ]
  },
  {
   "cell_type": "code",
   "execution_count": 20,
   "metadata": {},
   "outputs": [
    {
     "data": {
      "image/png": "[encoded data removed]",
      "text/plain": [
       "<rdkit.Chem.rdchem.Mol at 0x7fc485e46440>"
      ]
     },
     "execution_count": 20,
     "metadata": {},
     "output_type": "execute_result"
    }
   ],
   "source": [
    "#Notice only C, no H?\n",
    "m2 = Chem.AddHs(m1) #m3 = Chem.RemoveHs(m2)\n",
    "m2"
   ]
  },
  {
   "cell_type": "code",
   "execution_count": 21,
   "metadata": {},
   "outputs": [
    {
     "name": "stdout",
     "output_type": "stream",
     "text": [
      "\n",
      "     RDKit          2D\n",
      "\n",
      " 18 18  0  0  0  0  0  0  0  0999 V2000\n",
      "    4.5000    0.0000    0.0000 C   0  0  0  0  0  0  0  0  0  0  0  0\n",
      "    3.0000    0.0000    0.0000 C   0  0  0  0  0  0  0  0  0  0  0  0\n",
      "    1.5000    0.0000    0.0000 C   0  0  0  0  0  0  0  0  0  0  0  0\n",
      "    0.7500   -1.2990    0.0000 C   0  0  0  0  0  0  0  0  0  0  0  0\n",
      "   -0.7500   -1.2990    0.0000 C   0  0  0  0  0  0  0  0  0  0  0  0\n",
      "   -1.5000    0.0000    0.0000 C   0  0  0  0  0  0  0  0  0  0  0  0\n",
      "   -0.7500    1.2990    0.0000 C   0  0  0  0  0  0  0  0  0  0  0  0\n",
      "    0.7500    1.2990    0.0000 C   0  0  0  0  0  0  0  0  0  0  0  0\n",
      "    6.0000    0.0000    0.0000 H   0  0  0  0  0  0  0  0  0  0  0  0\n",
      "    4.5000    1.5000    0.0000 H   0  0  0  0  0  0  0  0  0  0  0  0\n",
      "    4.5000   -1.5000    0.0000 H   0  0  0  0  0  0  0  0  0  0  0  0\n",
      "    3.0000   -1.5000    0.0000 H   0  0  0  0  0  0  0  0  0  0  0  0\n",
      "    3.0000    1.5000    0.0000 H   0  0  0  0  0  0  0  0  0  0  0  0\n",
      "    1.5000   -2.5981    0.0000 H   0  0  0  0  0  0  0  0  0  0  0  0\n",
      "   -1.5000   -2.5981    0.0000 H   0  0  0  0  0  0  0  0  0  0  0  0\n",
      "   -3.0000    0.0000    0.0000 H   0  0  0  0  0  0  0  0  0  0  0  0\n",
      "   -1.5000    2.5981    0.0000 H   0  0  0  0  0  0  0  0  0  0  0  0\n",
      "    1.5000    2.5981    0.0000 H   0  0  0  0  0  0  0  0  0  0  0  0\n",
      "  1  2  1  0\n",
      "  2  3  1  0\n",
      "  3  4  2  0\n",
      "  4  5  1  0\n",
      "  5  6  2  0\n",
      "  6  7  1  0\n",
      "  7  8  2  0\n",
      "  8  3  1  0\n",
      "  1  9  1  0\n",
      "  1 10  1  0\n",
      "  1 11  1  0\n",
      "  2 12  1  0\n",
      "  2 13  1  0\n",
      "  4 14  1  0\n",
      "  5 15  1  0\n",
      "  6 16  1  0\n",
      "  7 17  1  0\n",
      "  8 18  1  0\n",
      "M  END\n",
      "\n"
     ]
    }
   ],
   "source": [
    "print(Chem.MolToMolBlock(m2))"
   ]
  },
  {
   "cell_type": "code",
   "execution_count": 22,
   "metadata": {},
   "outputs": [],
   "source": [
    "#going from 2D to 3D with proper coordinates?\n",
    "from rdkit.Chem import AllChem"
   ]
  },
  {
   "cell_type": "code",
   "execution_count": 23,
   "metadata": {},
   "outputs": [
    {
     "name": "stdout",
     "output_type": "stream",
     "text": [
      "\n",
      "     RDKit          3D\n",
      "\n",
      " 18 18  0  0  0  0  0  0  0  0999 V2000\n",
      "   -2.3976    0.1850    0.5701 C   0  0  0  0  0  0  0  0  0  0  0  0\n",
      "   -1.6138   -0.1868   -0.6938 C   0  0  0  0  0  0  0  0  0  0  0  0\n",
      "   -0.1705   -0.1457   -0.3518 C   0  0  0  0  0  0  0  0  0  0  0  0\n",
      "    0.5315   -1.2300    0.1244 C   0  0  0  0  0  0  0  0  0  0  0  0\n",
      "    1.8853   -1.1497    0.4335 C   0  0  0  0  0  0  0  0  0  0  0  0\n",
      "    2.4910    0.0702    0.2394 C   0  0  0  0  0  0  0  0  0  0  0  0\n",
      "    1.8408    1.1851   -0.2327 C   0  0  0  0  0  0  0  0  0  0  0  0\n",
      "    0.4967    1.0651   -0.5283 C   0  0  0  0  0  0  0  0  0  0  0  0\n",
      "   -2.2479    1.2901    0.7442 H   0  0  0  0  0  0  0  0  0  0  0  0\n",
      "   -3.4538   -0.0835    0.4622 H   0  0  0  0  0  0  0  0  0  0  0  0\n",
      "   -1.9001   -0.3130    1.4305 H   0  0  0  0  0  0  0  0  0  0  0  0\n",
      "   -1.8850   -1.2311   -0.9487 H   0  0  0  0  0  0  0  0  0  0  0  0\n",
      "   -1.8395    0.5285   -1.5133 H   0  0  0  0  0  0  0  0  0  0  0  0\n",
      "    0.0058   -2.1670    0.2587 H   0  0  0  0  0  0  0  0  0  0  0  0\n",
      "    2.3938   -2.0289    0.8048 H   0  0  0  0  0  0  0  0  0  0  0  0\n",
      "    3.5420    0.1352    0.4786 H   0  0  0  0  0  0  0  0  0  0  0  0\n",
      "    2.3706    2.1413   -0.3714 H   0  0  0  0  0  0  0  0  0  0  0  0\n",
      "   -0.0494    1.9353   -0.9063 H   0  0  0  0  0  0  0  0  0  0  0  0\n",
      "  1  2  1  0\n",
      "  2  3  1  0\n",
      "  3  4  2  0\n",
      "  4  5  1  0\n",
      "  5  6  2  0\n",
      "  6  7  1  0\n",
      "  7  8  2  0\n",
      "  8  3  1  0\n",
      "  1  9  1  0\n",
      "  1 10  1  0\n",
      "  1 11  1  0\n",
      "  2 12  1  0\n",
      "  2 13  1  0\n",
      "  4 14  1  0\n",
      "  5 15  1  0\n",
      "  6 16  1  0\n",
      "  7 17  1  0\n",
      "  8 18  1  0\n",
      "M  END\n",
      "\n"
     ]
    }
   ],
   "source": [
    "AllChem.EmbedMolecule(m2,randomSeed=0xf00d)   # optional random seed for reproducibility)\n",
    "print(Chem.MolToMolBlock(m2))   "
   ]
  },
  {
   "cell_type": "code",
   "execution_count": 24,
   "metadata": {},
   "outputs": [
    {
     "data": {
      "image/png": "[encoded data removed]",
      "text/plain": [
       "<rdkit.Chem.rdchem.Mol at 0x7fc485e46440>"
      ]
     },
     "execution_count": 24,
     "metadata": {},
     "output_type": "execute_result"
    }
   ],
   "source": [
    "m2"
   ]
  },
  {
   "cell_type": "code",
   "execution_count": 26,
   "metadata": {},
   "outputs": [],
   "source": [
    "#can we wrtie it to a xyz file? sdf file?\n",
    "from rdkit.Chem import rdmolfiles #https://www.rdkit.org/docs/source/rdkit.Chem.rdmolfiles.html"
   ]
  },
  {
   "cell_type": "code",
   "execution_count": 27,
   "metadata": {},
   "outputs": [],
   "source": [
    "rdmolfiles.MolToXYZFile(m2,'mol1.xyz')"
   ]
  },
  {
   "cell_type": "code",
   "execution_count": 29,
   "metadata": {},
   "outputs": [],
   "source": [
    "rdmolfiles.MolToPDBFile(m2,'mol1.pdb')"
   ]
  },
  {
   "cell_type": "code",
   "execution_count": 30,
   "metadata": {},
   "outputs": [
    {
     "data": {
      "text/plain": [
       "'[H]c1c([H])c([H])c(C([H])([H])C([H])([H])[H])c([H])c1[H]'"
      ]
     },
     "execution_count": 30,
     "metadata": {},
     "output_type": "execute_result"
    }
   ],
   "source": [
    "rdmolfiles.MolToSmiles(m2)"
   ]
  },
  {
   "cell_type": "markdown",
   "metadata": {},
   "source": [
    "### Step 2: RDkit for molecular, atomic and bond properties\n",
    "\n",
    "RDkit can obtain simple molecular properties. For example -> number of atoms, number of bond, etcs.,"
   ]
  },
  {
   "cell_type": "code",
   "execution_count": 84,
   "metadata": {},
   "outputs": [
    {
     "data": {
      "text/plain": [
       "106.07825032"
      ]
     },
     "execution_count": 84,
     "metadata": {},
     "output_type": "execute_result"
    }
   ],
   "source": [
    "# molecular weight\n",
    "Chem.rdMolDescriptors.CalcExactMolWt(m2)"
   ]
  },
  {
   "cell_type": "code",
   "execution_count": 37,
   "metadata": {},
   "outputs": [
    {
     "name": "stdout",
     "output_type": "stream",
     "text": [
      "C 0 6\n",
      "C 1 6\n",
      "C 2 6\n",
      "C 3 6\n",
      "C 4 6\n",
      "C 5 6\n",
      "C 6 6\n",
      "C 7 6\n",
      "H 8 1\n",
      "H 9 1\n",
      "H 10 1\n",
      "H 11 1\n",
      "H 12 1\n",
      "H 13 1\n",
      "H 14 1\n",
      "H 15 1\n",
      "H 16 1\n",
      "H 17 1\n"
     ]
    }
   ],
   "source": [
    "# can loop over every atom in the molecule\n",
    "for atom in m2.GetAtoms():\n",
    "    print(atom.GetSymbol(),atom.GetIdx(),atom.GetAtomicNum())"
   ]
  },
  {
   "cell_type": "code",
   "execution_count": 36,
   "metadata": {},
   "outputs": [
    {
     "name": "stdout",
     "output_type": "stream",
     "text": [
      "SINGLE 0 1\n",
      "SINGLE 1 2\n",
      "AROMATIC 2 3\n",
      "AROMATIC 3 4\n",
      "AROMATIC 4 5\n",
      "AROMATIC 5 6\n",
      "AROMATIC 6 7\n",
      "AROMATIC 7 2\n",
      "SINGLE 0 8\n",
      "SINGLE 0 9\n",
      "SINGLE 0 10\n",
      "SINGLE 1 11\n",
      "SINGLE 1 12\n",
      "SINGLE 3 13\n",
      "SINGLE 4 14\n",
      "SINGLE 5 15\n",
      "SINGLE 6 16\n",
      "SINGLE 7 17\n"
     ]
    }
   ],
   "source": [
    "# can loop over every atom in the molecule\n",
    "for bond in m2.GetBonds():\n",
    "    print(bond.GetBondType(),bond.GetBeginAtomIdx(), bond.GetEndAtomIdx(), )"
   ]
  },
  {
   "cell_type": "code",
   "execution_count": 39,
   "metadata": {},
   "outputs": [
    {
     "name": "stdout",
     "output_type": "stream",
     "text": [
      "C\n",
      "4\n",
      "0\n",
      "1\n",
      "SINGLE\n"
     ]
    }
   ],
   "source": [
    "print(m2.GetAtomWithIdx(0).GetSymbol())\n",
    "print(m2.GetAtomWithIdx(0).GetExplicitValence())\n",
    "print(m2.GetBondWithIdx(0).GetBeginAtomIdx())\n",
    "print(m2.GetBondWithIdx(0).GetEndAtomIdx())\n",
    "print(m2.GetBondBetweenAtoms(0,1).GetBondType())"
   ]
  },
  {
   "cell_type": "code",
   "execution_count": 42,
   "metadata": {},
   "outputs": [
    {
     "data": {
      "text/plain": [
       "[6, 1, 1, 1]"
      ]
     },
     "execution_count": 42,
     "metadata": {},
     "output_type": "execute_result"
    }
   ],
   "source": [
    "#Whats next to each other? Atoms keep track of their neighbors\n",
    "atom = m2.GetAtomWithIdx(0)\n",
    "neighbors = [x.GetAtomicNum() for x in atom.GetNeighbors()]\n",
    "neighbors"
   ]
  },
  {
   "cell_type": "code",
   "execution_count": 43,
   "metadata": {},
   "outputs": [
    {
     "data": {
      "text/plain": [
       "False"
      ]
     },
     "execution_count": 43,
     "metadata": {},
     "output_type": "execute_result"
    }
   ],
   "source": [
    "#Can check if in a ring?\n",
    "m2.GetAtomWithIdx(1).IsInRingSize(6)"
   ]
  },
  {
   "cell_type": "markdown",
   "metadata": {},
   "source": [
    "#### Other RDKit properties -> check out https://www.rdkit.org/docs/GettingStartedInPython.html"
   ]
  },
  {
   "cell_type": "markdown",
   "metadata": {},
   "source": [
    "### Step 3: 3D structure for Gaussian inputs\n",
    "\n",
    "With Rdkit we can get xyz, pdb, sdf, mol etc., but Gaussian requires a specific format. We can convert these xyz to .com/.gjf using obabel or our own code."
   ]
  },
  {
   "cell_type": "code",
   "execution_count": 52,
   "metadata": {},
   "outputs": [],
   "source": [
    "#using obabel -> show on terminal \n",
    "\n",
    "#check out this page: https://openbabel.org/docs/dev/Command-line_tools/babel.html"
   ]
  },
  {
   "cell_type": "code",
   "execution_count": 65,
   "metadata": {},
   "outputs": [
    {
     "data": {
      "text/plain": [
       "['!Put Keywords Here, check Charge and Multiplicity.\\n',\n",
       " '#\\n',\n",
       " '\\n',\n",
       " ' mol1.xyz\\n',\n",
       " '\\n',\n",
       " '0  1\\n',\n",
       " 'C          -2.39757         0.18499         0.57013\\n',\n",
       " 'C          -1.61383        -0.18681        -0.69385\\n',\n",
       " 'C          -0.17048        -0.14572        -0.35185\\n',\n",
       " 'C           0.53151        -1.23000         0.12442\\n',\n",
       " 'C           1.88528        -1.14973         0.43347\\n',\n",
       " 'C           2.49100         0.07018         0.23945\\n',\n",
       " 'C           1.84077         1.18513        -0.23275\\n',\n",
       " 'C           0.49668         1.06514        -0.52829\\n',\n",
       " 'H          -2.24790         1.29006         0.74420\\n',\n",
       " 'H          -3.45377        -0.08348         0.46219\\n',\n",
       " 'H          -1.90008        -0.31300         1.43053\\n',\n",
       " 'H          -1.88497        -1.23114        -0.94874\\n',\n",
       " 'H          -1.83953         0.52850        -1.51335\\n',\n",
       " 'H           0.00584        -2.16703         0.25867\\n',\n",
       " 'H           2.39378        -2.02892         0.80478\\n',\n",
       " 'H           3.54203         0.13521         0.47862\\n',\n",
       " 'H           2.37061         2.14129        -0.37135\\n',\n",
       " 'H          -0.04936         1.93534        -0.90628\\n',\n",
       " '\\n']"
      ]
     },
     "execution_count": 65,
     "metadata": {},
     "output_type": "execute_result"
    }
   ],
   "source": [
    "#using python code\n",
    "\n",
    "#read the xyz file\n",
    "f = open('mol1.com').readlines()\n",
    "f"
   ]
  },
  {
   "cell_type": "code",
   "execution_count": 67,
   "metadata": {},
   "outputs": [
    {
     "data": {
      "text/plain": [
       "['%chk=mol1.chk\\n%MEM=96GB\\n%nprocshared=12\\n# opt freq M062X/Def2TZVP scrf=(SMD,solvent=water) nosymm',\n",
       " '',\n",
       " 'mol1',\n",
       " '',\n",
       " '0  1',\n",
       " 'C          -2.39757         0.18499         0.57013',\n",
       " 'C          -1.61383        -0.18681        -0.69385',\n",
       " 'C          -0.17048        -0.14572        -0.35185',\n",
       " 'C           0.53151        -1.23000         0.12442',\n",
       " 'C           1.88528        -1.14973         0.43347',\n",
       " 'C           2.49100         0.07018         0.23945',\n",
       " 'C           1.84077         1.18513        -0.23275',\n",
       " 'C           0.49668         1.06514        -0.52829',\n",
       " 'H          -2.24790         1.29006         0.74420',\n",
       " 'H          -3.45377        -0.08348         0.46219',\n",
       " 'H          -1.90008        -0.31300         1.43053',\n",
       " 'H          -1.88497        -1.23114        -0.94874',\n",
       " 'H          -1.83953         0.52850        -1.51335',\n",
       " 'H           0.00584        -2.16703         0.25867',\n",
       " 'H           2.39378        -2.02892         0.80478',\n",
       " 'H           3.54203         0.13521         0.47862',\n",
       " 'H           2.37061         2.14129        -0.37135',\n",
       " 'H          -0.04936         1.93534        -0.90628',\n",
       " '',\n",
       " '']"
      ]
     },
     "execution_count": 67,
     "metadata": {},
     "output_type": "execute_result"
    }
   ],
   "source": [
    "file ='mol1.com'\n",
    "\n",
    "header1 = [\n",
    "'%chk={0}.chk'.format(file.split('.com')[0]), #the checkpoint file -> saving at certain points of calulcation\n",
    "'%MEM={}GB'.format(96), # how much memory to use for the calculations\n",
    "'%nprocshared={}'.format(12), # how many processesors\n",
    "'# opt freq M062X/Def2TZVP scrf=(SMD,solvent=water)' # what kind of calculation to run\n",
    "' nosymm']\n",
    "\n",
    "with open(file, 'rt') as f:\n",
    "    inputs = f.read().split('\\n')\n",
    "    inputs.pop(1)\n",
    "    inputs[0] = '\\n'.join(header1)\n",
    "    inputs[2] = file.split('.com')[0]\n",
    "\n",
    "inputs"
   ]
  },
  {
   "cell_type": "code",
   "execution_count": 68,
   "metadata": {},
   "outputs": [],
   "source": [
    "with open(file, 'wt') as f:\n",
    "    f.write('\\n'.join(inputs))"
   ]
  },
  {
   "cell_type": "code",
   "execution_count": 69,
   "metadata": {},
   "outputs": [
    {
     "data": {
      "text/plain": [
       "['%chk=mol1.chk\\n',\n",
       " '%MEM=96GB\\n',\n",
       " '%nprocshared=12\\n',\n",
       " '# opt freq M062X/Def2TZVP scrf=(SMD,solvent=water) nosymm\\n',\n",
       " '\\n',\n",
       " 'mol1\\n',\n",
       " '\\n',\n",
       " '0  1\\n',\n",
       " 'C          -2.39757         0.18499         0.57013\\n',\n",
       " 'C          -1.61383        -0.18681        -0.69385\\n',\n",
       " 'C          -0.17048        -0.14572        -0.35185\\n',\n",
       " 'C           0.53151        -1.23000         0.12442\\n',\n",
       " 'C           1.88528        -1.14973         0.43347\\n',\n",
       " 'C           2.49100         0.07018         0.23945\\n',\n",
       " 'C           1.84077         1.18513        -0.23275\\n',\n",
       " 'C           0.49668         1.06514        -0.52829\\n',\n",
       " 'H          -2.24790         1.29006         0.74420\\n',\n",
       " 'H          -3.45377        -0.08348         0.46219\\n',\n",
       " 'H          -1.90008        -0.31300         1.43053\\n',\n",
       " 'H          -1.88497        -1.23114        -0.94874\\n',\n",
       " 'H          -1.83953         0.52850        -1.51335\\n',\n",
       " 'H           0.00584        -2.16703         0.25867\\n',\n",
       " 'H           2.39378        -2.02892         0.80478\\n',\n",
       " 'H           3.54203         0.13521         0.47862\\n',\n",
       " 'H           2.37061         2.14129        -0.37135\\n',\n",
       " 'H          -0.04936         1.93534        -0.90628\\n',\n",
       " '\\n']"
      ]
     },
     "execution_count": 69,
     "metadata": {},
     "output_type": "execute_result"
    }
   ],
   "source": [
    "f2 = open('mol1.com').readlines()\n",
    "f2"
   ]
  },
  {
   "cell_type": "markdown",
   "metadata": {},
   "source": [
    "# Bash: used to run on clusters\n",
    "\n",
    "Bash scripts is primiarly used for submission of calculations on clusters\n",
    "\n",
    "* It sets up the necessary computational resources required to run a computational chemistry calculation\n",
    "* Details about where, and how ling to run the calculation\n",
    "* Details about what kind of calculation (here we aredoing Gaussian\n",
    "* Helps keep track of the corresponding output for a given calculations\n",
    "\n"
   ]
  },
  {
   "cell_type": "raw",
   "metadata": {},
   "source": [
    "# simple script shown here\n",
    "\n",
    "#!/bin/bash\n",
    "#SBATCH -J mol1\n",
    "#SBATCH -p normal\n",
    "#SBATCH -t 01:00:00\n",
    "#SBATCH --export=NONE\n",
    "#SBATCH --ntasks-per-node 24\n",
    "\n",
    "g16root=\"/opt/apps/Gaussian/G16C\"\n",
    "export g16root\n",
    ". $g16root/g16/bsd/g16.profile\n",
    "\n",
    "# Add useful info to top of output file\n",
    "\n",
    "export GAUSS_SCRDIR=\"/tmp\"\n",
    "gaujob=mol1\n",
    "Homepath=$(pwd)\n",
    "touch $Homepath/$gaujob.log\n",
    "\n",
    "echo \"Job Start Time: $(date)\" > $Homepath/$gaujob.log\n",
    "echo \"SLURM Job ID: $SLURM_JOB_ID\" >> $Homepath/$gaujob.log\n",
    "echo \"SLURM Job Name: $SLURM_JOB_NAME\" >> $Homepath/$gaujob.log\n",
    "\n",
    "$g16root/g16/g16 < $gaujob.com >> $Homepath/$gaujob.log"
   ]
  },
  {
   "cell_type": "raw",
   "metadata": {},
   "source": [
    "# to run -> the file named mol1.sh\n",
    "sbatch mol1.sh"
   ]
  },
  {
   "cell_type": "markdown",
   "metadata": {},
   "source": [
    "# CClib: used to analyse outputs of computational calculation\n",
    "\n",
    "It is a python libabry with a wide apllication of different types of computational programs\n",
    "\n",
    "https://cclib.github.io\n"
   ]
  },
  {
   "cell_type": "code",
   "execution_count": 85,
   "metadata": {},
   "outputs": [
    {
     "name": "stdout",
     "output_type": "stream",
     "text": [
      "There are 18 atoms\n"
     ]
    }
   ],
   "source": [
    "import cclib\n",
    "\n",
    "filename = \"mol1.log\"\n",
    "data = cclib.io.ccread(filename)\n",
    "print(\"There are {} atoms\".format(data.natom))"
   ]
  },
  {
   "cell_type": "code",
   "execution_count": 86,
   "metadata": {},
   "outputs": [
    {
     "data": {
      "text/plain": [
       "['OPT_DONE',\n",
       " 'OPT_NEW',\n",
       " 'OPT_UNCONVERGED',\n",
       " 'OPT_UNKNOWN',\n",
       " '__class__',\n",
       " '__delattr__',\n",
       " '__dict__',\n",
       " '__dir__',\n",
       " '__doc__',\n",
       " '__eq__',\n",
       " '__format__',\n",
       " '__ge__',\n",
       " '__getattribute__',\n",
       " '__gt__',\n",
       " '__hash__',\n",
       " '__init__',\n",
       " '__init_subclass__',\n",
       " '__le__',\n",
       " '__lt__',\n",
       " '__module__',\n",
       " '__ne__',\n",
       " '__new__',\n",
       " '__reduce__',\n",
       " '__reduce_ex__',\n",
       " '__repr__',\n",
       " '__setattr__',\n",
       " '__sizeof__',\n",
       " '__str__',\n",
       " '__subclasshook__',\n",
       " '__weakref__',\n",
       " '_attributes',\n",
       " '_attrlist',\n",
       " '_dictsofarrays',\n",
       " '_intarrays',\n",
       " '_listsofarrays',\n",
       " 'arrayify',\n",
       " 'atomcharges',\n",
       " 'atomcoords',\n",
       " 'atomnos',\n",
       " 'basis_set',\n",
       " 'calc_type',\n",
       " 'charge',\n",
       " 'check_values',\n",
       " 'closed_shell',\n",
       " 'converged_geometries',\n",
       " 'coreelectrons',\n",
       " 'dispersion',\n",
       " 'enthalpy',\n",
       " 'entropy',\n",
       " 'freeenergy',\n",
       " 'functional',\n",
       " 'geotargets',\n",
       " 'geovalues',\n",
       " 'getattributes',\n",
       " 'grads',\n",
       " 'grid',\n",
       " 'homos',\n",
       " 'keywords_line',\n",
       " 'listify',\n",
       " 'metadata',\n",
       " 'moenergies',\n",
       " 'moments',\n",
       " 'mult',\n",
       " 'natom',\n",
       " 'nbasis',\n",
       " 'nelectrons',\n",
       " 'new_geometries',\n",
       " 'nmo',\n",
       " 'optdone',\n",
       " 'optstatus',\n",
       " 'point_group',\n",
       " 'polarizabilities',\n",
       " 'pressure',\n",
       " 'processors',\n",
       " 'qm_program',\n",
       " 'roconst',\n",
       " 'rotemp',\n",
       " 'run_date',\n",
       " 'scfenergies',\n",
       " 'scftargets',\n",
       " 'setattributes',\n",
       " 'solvation',\n",
       " 'symmno',\n",
       " 'temperature',\n",
       " 'typecheck',\n",
       " 'unconverged_geometries',\n",
       " 'unknown_geometries',\n",
       " 'vibdisps',\n",
       " 'vibfconsts',\n",
       " 'vibfreqs',\n",
       " 'vibirs',\n",
       " 'vibrmasses',\n",
       " 'vibsyms',\n",
       " 'write',\n",
       " 'writecml',\n",
       " 'writejson',\n",
       " 'writexyz',\n",
       " 'zpve']"
      ]
     },
     "execution_count": 86,
     "metadata": {},
     "output_type": "execute_result"
    }
   ],
   "source": [
    "#properties in the data\n",
    "dir(data)"
   ]
  },
  {
   "cell_type": "code",
   "execution_count": 87,
   "metadata": {},
   "outputs": [
    {
     "name": "stdout",
     "output_type": "stream",
     "text": [
      "Enthaply -8453.96505165999, Free Energy -8455.070296486567\n"
     ]
    }
   ],
   "source": [
    "print('Enthaply {}, Free Energy {}'.format(data.enthalpy, data.freeenergy))"
   ]
  },
  {
   "cell_type": "code",
   "execution_count": null,
   "metadata": {},
   "outputs": [],
   "source": []
  },
  {
   "cell_type": "code",
   "execution_count": null,
   "metadata": {},
   "outputs": [],
   "source": []
  }
 ],
 "metadata": {
  "kernelspec": {
   "display_name": "rd",
   "language": "python",
   "name": "my-rdkit-envv"
  },
  "language_info": {
   "codemirror_mode": {
    "name": "ipython",
    "version": 3
   },
   "file_extension": ".py",
   "mimetype": "text/x-python",
   "name": "python",
   "nbconvert_exporter": "python",
   "pygments_lexer": "ipython3",
   "version": "3.7.9"
  }
 },
 "nbformat": 4,
 "nbformat_minor": 4
}
