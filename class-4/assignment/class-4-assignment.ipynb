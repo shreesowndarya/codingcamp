{
 "cells": [
  {
   "cell_type": "markdown",
   "metadata": {},
   "source": [
    "## Problem 1 - RDKit\n",
    "\n",
    "**Q1: Read in solubility-assignment CSV and for every SMILES get an XYZ file.**"
   ]
  },
  {
   "cell_type": "code",
   "execution_count": null,
   "metadata": {},
   "outputs": [],
   "source": []
  },
  {
   "cell_type": "markdown",
   "metadata": {},
   "source": [
    "**Q2: For the SMILES in the above CSV, get the properties listed using RDkit.**\n",
    "\n",
    "* Minimum Degree\n",
    "* Molecular Weight\n",
    "* Number of H-Bond Donors\n",
    "* Number of Rings\n",
    "* Number of Rotatable Bonds"
   ]
  },
  {
   "cell_type": "code",
   "execution_count": null,
   "metadata": {},
   "outputs": [],
   "source": []
  },
  {
   "cell_type": "markdown",
   "metadata": {},
   "source": [
    "**Q3: Try converting the .xyz to .com using obabel on your terminal.**"
   ]
  },
  {
   "cell_type": "code",
   "execution_count": null,
   "metadata": {},
   "outputs": [],
   "source": []
  },
  {
   "cell_type": "markdown",
   "metadata": {},
   "source": [
    "**Q4: Edit the .coms to add in the necessary lines above for all the com files.**"
   ]
  },
  {
   "cell_type": "code",
   "execution_count": null,
   "metadata": {},
   "outputs": [],
   "source": []
  },
  {
   "cell_type": "markdown",
   "metadata": {},
   "source": [
    "## Problem 2 - CClib\n",
    "\n",
    "**Q5: Analyse the file results given in the logs folder to get the the following from CCLib and write to a CSV the following properties along with the file name**\n",
    "\n",
    "* Final SCF Energy\n",
    "* Enthaply\n",
    "* Free Energy\n",
    "* HOMO, LUMO\n",
    "* charge\n",
    "* mult\n",
    "* natoms"
   ]
  },
  {
   "cell_type": "code",
   "execution_count": null,
   "metadata": {},
   "outputs": [],
   "source": []
  }
 ],
 "metadata": {
  "kernelspec": {
   "display_name": "rd",
   "language": "python",
   "name": "my-rdkit-envv"
  },
  "language_info": {
   "codemirror_mode": {
    "name": "ipython",
    "version": 3
   },
   "file_extension": ".py",
   "mimetype": "text/x-python",
   "name": "python",
   "nbconvert_exporter": "python",
   "pygments_lexer": "ipython3",
   "version": "3.7.9"
  }
 },
 "nbformat": 4,
 "nbformat_minor": 4
}
